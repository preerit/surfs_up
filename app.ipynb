{
 "cells": [
  {
   "cell_type": "code",
   "execution_count": 1,
   "id": "a65571b8",
   "metadata": {},
   "outputs": [],
   "source": [
    "import datetime as dt\n",
    "import numpy as np\n",
    "import pandas as pd"
   ]
  },
  {
   "cell_type": "code",
   "execution_count": 2,
   "id": "b6aa5380",
   "metadata": {},
   "outputs": [],
   "source": [
    "import sqlalchemy\n",
    "from sqlalchemy.ext.automap import automap_base\n",
    "from sqlalchemy.orm import Session\n",
    "from sqlalchemy import create_engine, func"
   ]
  },
  {
   "cell_type": "code",
   "execution_count": 3,
   "id": "35665357",
   "metadata": {},
   "outputs": [],
   "source": [
    "import jinja2"
   ]
  },
  {
   "cell_type": "code",
   "execution_count": 4,
   "id": "49402f63",
   "metadata": {},
   "outputs": [],
   "source": [
    "import markupsafe\n",
    "from markupsafe import escape"
   ]
  },
  {
   "cell_type": "code",
   "execution_count": 5,
   "id": "20f6e2dd",
   "metadata": {},
   "outputs": [],
   "source": [
    "import selenium"
   ]
  },
  {
   "cell_type": "code",
   "execution_count": 6,
   "id": "aa89dfb5",
   "metadata": {},
   "outputs": [],
   "source": [
    "import flask"
   ]
  },
  {
   "cell_type": "code",
   "execution_count": 7,
   "id": "e578ad16",
   "metadata": {},
   "outputs": [],
   "source": [
    "from flask import Flask,jsonify"
   ]
  },
  {
   "cell_type": "code",
   "execution_count": 8,
   "id": "1865b393",
   "metadata": {},
   "outputs": [],
   "source": [
    "from selenium import webdriver"
   ]
  },
  {
   "cell_type": "code",
   "execution_count": 9,
   "id": "f6864d4e",
   "metadata": {},
   "outputs": [],
   "source": [
    "engine = create_engine(\"sqlite:///hawaii.sqlite\")\n",
    "\n",
    "Base = automap_base()\n",
    "\n",
    "Base.prepare(engine, reflect=True)\n",
    " \n",
    "Measurement = Base.classes.measurement\n",
    "Station = Base.classes.station\n",
    "\n",
    "session = Session(engine)"
   ]
  },
  {
   "cell_type": "code",
   "execution_count": 10,
   "id": "c74753d1",
   "metadata": {},
   "outputs": [],
   "source": [
    "app = Flask(__name__)\n",
    "\n",
    "@app.route(\"/\")\n",
    "\n",
    "def welcome():\n",
    "    return(\n",
    "    '''\n",
    "    Welcome to the Climate Analysis API!\n",
    "    Available Routes:\n",
    "    /api/v1.0/precipitation\n",
    "    /api/v1.0/stations\n",
    "    /api/v1.0/tobs\n",
    "    /api/v1.0/temp/start/end\n",
    "    ''')"
   ]
  },
  {
   "cell_type": "markdown",
   "id": "d948cb52",
   "metadata": {},
   "source": [
    "## Make precipitation route"
   ]
  },
  {
   "cell_type": "code",
   "execution_count": 11,
   "id": "02d6c1e4",
   "metadata": {},
   "outputs": [],
   "source": [
    "@app.route(\"/api/v1.0/precipitation\")\n",
    "def precipitation():\n",
    "   prev_year = dt.date(2017, 8, 23) - dt.timedelta(days=365)\n",
    "   precipitation = session.query(Measurement.date, Measurement.prcp).\\\n",
    "    filter(Measurement.date >= prev_year).all()\n",
    "   precip = {date: prcp for date, prcp in precipitation}\n",
    "   return jsonify(precip)"
   ]
  },
  {
   "cell_type": "markdown",
   "id": "c5fa2af3",
   "metadata": {},
   "source": [
    "## Stations route"
   ]
  },
  {
   "cell_type": "code",
   "execution_count": 12,
   "id": "3c90d4fc",
   "metadata": {},
   "outputs": [],
   "source": [
    "@app.route(\"/api/v1.0/stations\")\n",
    "def stations():\n",
    "    results = session.query(Station.station).all()\n",
    "    stations = list(np.ravel(results))\n",
    "    return jsonify(stations=stations)"
   ]
  },
  {
   "cell_type": "markdown",
   "id": "909f0d03",
   "metadata": {},
   "source": [
    "## Monthly temperature route"
   ]
  },
  {
   "cell_type": "code",
   "execution_count": 13,
   "id": "685e2875",
   "metadata": {},
   "outputs": [],
   "source": [
    "@app.route(\"/api/v1.0/tobs\")\n",
    "def temp_monthly():\n",
    "    prev_year = dt.date(2017, 8, 23) - dt.timedelta(days=365)\n",
    "    results = session.query(Measurement.tobs).\\\n",
    "      filter(Measurement.station == 'USC00519281').\\\n",
    "      filter(Measurement.date >= prev_year).all()\n",
    "    temps = list(np.ravel(results))\n",
    "    return jsonify(temps=temps)"
   ]
  },
  {
   "cell_type": "markdown",
   "id": "cf52782d",
   "metadata": {},
   "source": [
    "## Statistics route"
   ]
  },
  {
   "cell_type": "code",
   "execution_count": 14,
   "id": "7337694e",
   "metadata": {},
   "outputs": [],
   "source": [
    "@app.route(\"/api/v1.0/temp/<start>\")\n",
    "@app.route(\"/api/v1.0/temp/<start>/<end>\")\n",
    "def stats(start=None, end=None):\n",
    "    sel = [func.min(Measurement.tobs), func.avg(Measurement.tobs), func.max(Measurement.tobs)]\n",
    "\n",
    "    if not end:\n",
    "        results = session.query(*sel).\\\n",
    "            filter(Measurement.date >= start).all()\n",
    "        temps = list(np.ravel(results))\n",
    "        return jsonify(temps)\n",
    "\n",
    "    results = session.query(*sel).\\\n",
    "        filter(Measurement.date >= start).\\\n",
    "        filter(Measurement.date <= end).all()\n",
    "    temps = list(np.ravel(results))\n",
    "    return jsonify(temps)"
   ]
  },
  {
   "cell_type": "code",
   "execution_count": null,
   "id": "f0f13a36",
   "metadata": {},
   "outputs": [],
   "source": []
  }
 ],
 "metadata": {
  "kernelspec": {
   "display_name": "PythonData",
   "language": "python",
   "name": "pythondata"
  },
  "language_info": {
   "codemirror_mode": {
    "name": "ipython",
    "version": 3
   },
   "file_extension": ".py",
   "mimetype": "text/x-python",
   "name": "python",
   "nbconvert_exporter": "python",
   "pygments_lexer": "ipython3",
   "version": "3.7.13"
  }
 },
 "nbformat": 4,
 "nbformat_minor": 5
}
